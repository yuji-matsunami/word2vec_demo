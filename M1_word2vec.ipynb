{
  "nbformat": 4,
  "nbformat_minor": 0,
  "metadata": {
    "colab": {
      "name": "M1_word2vec.ipynb",
      "provenance": [],
      "collapsed_sections": [],
      "include_colab_link": true
    },
    "kernelspec": {
      "name": "python3",
      "display_name": "Python 3"
    },
    "language_info": {
      "name": "python"
    }
  },
  "cells": [
    {
      "cell_type": "markdown",
      "metadata": {
        "id": "view-in-github",
        "colab_type": "text"
      },
      "source": [
        "<a href=\"https://colab.research.google.com/github/yuji-matsunami/word2vec_demo/blob/feature/M1_word2vec.ipynb\" target=\"_parent\"><img src=\"https://colab.research.google.com/assets/colab-badge.svg\" alt=\"Open In Colab\"/></a>"
      ]
    },
    {
      "cell_type": "markdown",
      "metadata": {
        "id": "WucaO_Armiuh"
      },
      "source": [
        "# Word2Vecの実習\n",
        "\n",
        "## 初めに\n",
        "\n",
        "- Wrod2Vec学習済みモデルをダウンロードしてください\n",
        "    - [日本語 Wikipedia エンティティベクトル](http://www.cl.ecei.tohoku.ac.jp/~m-suzuki/jawiki_vector/)\n",
        "    - 20170201.tar.bz2 (2017年2月1日版, 1.3GB, 解凍後 2.6GB)てやつ\n",
        "    - ダウンロードしたらドライブに保存\n",
        "    - ドライブのディレクトリからカレントディレクトリにコピーして解凍する(5分くらいかかります)\n",
        "        - 「!」を使えばLinuxコマンドが使えます(例えばコピーしたいときは「!cp ○○ ○○」)\n",
        "    - .binのファイルをpythonで読み込ませる\n",
        "    "
      ]
    },
    {
      "cell_type": "code",
      "metadata": {
        "colab": {
          "base_uri": "https://localhost:8080/"
        },
        "id": "fbvONNho_3Ty",
        "outputId": "f1292fdf-e694-48fe-e1dd-ba148daaecf6"
      },
      "source": [
        "# driveをマウントする\n",
        "from google.colab import drive\n",
        "drive.mount('/content/drive')"
      ],
      "execution_count": null,
      "outputs": [
        {
          "output_type": "stream",
          "text": [
            "Mounted at /content/drive\n"
          ],
          "name": "stdout"
        }
      ]
    },
    {
      "cell_type": "code",
      "metadata": {
        "id": "lyiZG_laxMul",
        "colab": {
          "base_uri": "https://localhost:8080/"
        },
        "outputId": "e57eab5c-22d6-429c-d165-70bef17d7a93"
      },
      "source": [
        "# ドライブにあるファイルをカレントディレクトリにコピー\n",
        "!cp /content/drive/MyDrive/20170201.tar.bz2 .\n",
        "\n",
        "# コピーしたファイルを展開する\n",
        "!tar -jxvf 20170201.tar.bz2"
      ],
      "execution_count": null,
      "outputs": [
        {
          "output_type": "stream",
          "text": [
            "entity_vector/\n",
            "entity_vector/entity_vector.model.txt\n",
            "entity_vector/entity_vector.model.bin\n",
            "^C\n"
          ],
          "name": "stdout"
        }
      ]
    },
    {
      "cell_type": "code",
      "metadata": {
        "id": "z3wURCKCCcZK"
      },
      "source": [
        "# ライブラリのインポート\n",
        "from gensim.models import KeyedVectors\n",
        "\n",
        "# modelの読み込み\n",
        "model = KeyedVectors.load_word2vec_format(\"/content/entity_vector/entity_vector.model.bin\", binary=True)"
      ],
      "execution_count": null,
      "outputs": []
    },
    {
      "cell_type": "markdown",
      "metadata": {
        "id": "Zl7YXLdICeyQ"
      },
      "source": [
        "# 単語ベクトルを見てみよう\n",
        "\n",
        "- word2vecは単語の意味をベクトル化する技術\n",
        "- 下のコードで単語をベクトル化できます\n",
        "    - model[\"ベクトル化したい単語\"]\n",
        "- ベクトルの次元数を見たいときは後ろに.shapeをつける"
      ]
    },
    {
      "cell_type": "code",
      "metadata": {
        "colab": {
          "base_uri": "https://localhost:8080/"
        },
        "id": "RFmSxJIECPh2",
        "outputId": "8589c2bb-6b52-4806-a1cf-6052fd2201b5"
      },
      "source": [
        "# 単語ベクトルを表示\n",
        "print(model[\"徳島県\"])\n",
        "\n",
        "# 単語ベクトルの形状を表示\n",
        "print(model[\"徳島県\"].shape)"
      ],
      "execution_count": null,
      "outputs": [
        {
          "output_type": "stream",
          "text": [
            "[-0.36937952  0.39327127  0.962526    0.11396863 -0.31391037  0.30283377\n",
            "  0.06222774  0.21780477  0.3249089   0.53976893 -1.1655247   0.51782435\n",
            "  0.2291862  -0.37818933  0.36451265 -0.17299128  0.35903683  0.7618156\n",
            " -0.43265322 -0.8348384  -0.7318313  -0.193996    0.0849961  -1.5527563\n",
            "  0.38954034 -0.03761116  0.07277089 -0.10369919  0.04436478 -0.59187\n",
            " -0.19722085  0.2563975   0.62914723 -0.28630564  0.62698734  0.6360709\n",
            "  0.3800281  -0.13499632 -0.12350386 -0.06900103 -0.2845885   0.06644206\n",
            " -0.27475128 -0.18265377  0.4019278  -0.11878568  0.30006772  0.3142287\n",
            "  0.21725841  0.14329945  0.04850295 -0.9127257  -0.06454241 -0.04637592\n",
            "  0.13374929 -0.5026879  -0.5991166   0.9856819   0.23188594  0.3377967\n",
            "  0.18835548  0.88108313 -0.73468596 -1.0329183  -0.15926436  0.1630598\n",
            "  0.28322056  0.10758661  0.26630124 -0.5630826   0.22937863 -0.07117989\n",
            "  0.03599849  0.3295657   0.23761286 -0.17044511 -0.05755287 -0.43906775\n",
            "  0.5811544   0.15947841  0.5783042   0.06437678 -0.17959477 -0.6044151\n",
            " -0.3159742   0.17729822 -0.17412703  0.23138048 -0.08409058 -1.0509481\n",
            " -0.1135851   0.32305405  0.2524599   0.04001226 -0.7117321   0.97896415\n",
            " -0.3746523  -0.48494697  0.31206354 -0.31859082 -0.2339054   0.16264552\n",
            " -0.1257464  -0.39268342 -0.26886594  0.22782879  0.6139318  -0.52962434\n",
            " -0.26239604  0.20486447 -0.15844777 -0.45668375  0.8985284  -0.06220841\n",
            " -0.20475776 -0.04728924  0.1116086   0.28787968 -0.26933926  0.83857685\n",
            "  0.07776276  0.36213592 -0.9348755   0.0358986   0.18766788  0.3142576\n",
            " -0.44274786 -0.21473499 -0.4466825   0.2868195  -0.33997914 -0.02777136\n",
            "  0.46000594 -0.67889255 -0.86075866  0.03024676  0.50296825  0.11120481\n",
            " -0.00294523  0.60311335  0.15890159  0.05313804  0.14851668  0.46563694\n",
            "  0.12128381  0.12928617  0.02473835  0.36314633 -0.2313009   0.8461007\n",
            " -0.40647587 -0.9806174   0.03783    -0.27754423 -0.73983145 -0.9019573\n",
            "  0.5769527  -0.15977652 -0.0326858  -0.3045788   0.02815845  0.03888505\n",
            " -0.01301495 -0.16738236  0.08584852 -0.42766452  0.78612834  0.9737148\n",
            "  0.7863586   0.06283776  0.57913864  0.27298212  0.00847397 -0.51907325\n",
            " -0.8748178   0.49966702  0.37388575  0.6014866   0.5629353   0.37458742\n",
            "  0.7968322   0.4360188  -0.83069265 -0.5473197   0.1714185   0.35102347\n",
            "  0.75178117 -0.41454667 -0.37550643  0.4525294  -0.27083558  0.60713285\n",
            " -0.38193592  0.41674623  0.48829588 -0.08266275 -0.7806145  -1.3185806\n",
            "  0.44271082 -0.5366495 ]\n",
            "(200,)\n"
          ],
          "name": "stdout"
        }
      ]
    },
    {
      "cell_type": "code",
      "metadata": {
        "id": "LSEqj9j6FuvK"
      },
      "source": [
        "# 上のセルを参考にして好きな単語ベクトルを見てみよう"
      ],
      "execution_count": null,
      "outputs": []
    },
    {
      "cell_type": "markdown",
      "metadata": {
        "id": "QIJtTdi0Zs3I"
      },
      "source": [
        "# 単語の類似度を計算しよう\n",
        "\n",
        "## ある単語と似ている単語を表示したり,単語間のcos類似度を計算できます\n",
        "\n",
        "- 似ている単語をいっぱい表示したい\n",
        "    - model.most_similat([\"単語\"])\n",
        "- 単語間のcos類似度を計算したい\n",
        "    - model.wv.similarity(\"単語1\",\"単語2\")\n"
      ]
    },
    {
      "cell_type": "code",
      "metadata": {
        "colab": {
          "base_uri": "https://localhost:8080/"
        },
        "id": "Lh2h6tHsZ5mX",
        "outputId": "e16fdfd9-b87a-44cf-fa3f-349d75ff7d2c"
      },
      "source": [
        "# 徳島とのcos類似度が多きい上位10単語を表示\n",
        "results = (model.most_similar([\"徳島\"]))\n",
        "for result in results:\n",
        "    print(result)"
      ],
      "execution_count": null,
      "outputs": [
        {
          "output_type": "stream",
          "text": [
            "('岡山', 0.8189542889595032)\n",
            "('高知', 0.8133323192596436)\n",
            "('鳥取', 0.8014235496520996)\n",
            "('熊本', 0.7959524393081665)\n",
            "('富山', 0.787600040435791)\n",
            "('金沢', 0.7870218753814697)\n",
            "('佐賀', 0.7843206524848938)\n",
            "('愛媛', 0.7690701484680176)\n",
            "('浜松', 0.7656474113464355)\n",
            "('新潟', 0.7651026248931885)\n"
          ],
          "name": "stdout"
        }
      ]
    },
    {
      "cell_type": "code",
      "metadata": {
        "id": "8fjIAvyGc57g"
      },
      "source": [
        "# 上のセルを参考にして類似語を見てみよう"
      ],
      "execution_count": null,
      "outputs": []
    },
    {
      "cell_type": "code",
      "metadata": {
        "colab": {
          "base_uri": "https://localhost:8080/"
        },
        "id": "E50vof8IvsTK",
        "outputId": "bb3add56-a82e-4a9e-b4bf-7b1dc19e4ec3"
      },
      "source": [
        "print(model.wv.similarity(\"徳島\",\"香川\"))"
      ],
      "execution_count": null,
      "outputs": [
        {
          "output_type": "stream",
          "text": [
            "0.74451846\n"
          ],
          "name": "stdout"
        },
        {
          "output_type": "stream",
          "text": [
            "/usr/local/lib/python3.7/dist-packages/ipykernel_launcher.py:1: DeprecationWarning: Call to deprecated `wv` (Attribute will be removed in 4.0.0, use self instead).\n",
            "  \"\"\"Entry point for launching an IPython kernel.\n"
          ],
          "name": "stderr"
        }
      ]
    },
    {
      "cell_type": "code",
      "metadata": {
        "id": "qWTmdvaYyrg7"
      },
      "source": [
        "# 上のセルを参考にしてcos類似度を計算してみよう"
      ],
      "execution_count": null,
      "outputs": []
    },
    {
      "cell_type": "markdown",
      "metadata": {
        "id": "JHz-fm8ddKNX"
      },
      "source": [
        "# 単語の足し引きをしよう\n",
        "\n",
        "- positiveに足す単語,negativeに引く単語を書く"
      ]
    },
    {
      "cell_type": "code",
      "metadata": {
        "colab": {
          "base_uri": "https://localhost:8080/"
        },
        "id": "22tN9mbcdPr7",
        "outputId": "8ec67755-f16d-4983-94b4-8801da72d7fb"
      },
      "source": [
        "results = model.most_similar(positive=[\"王様\", \"女\"], negative=[\"男\"])\n",
        "for result in results:\n",
        "    print(result)\n"
      ],
      "execution_count": null,
      "outputs": [
        {
          "output_type": "stream",
          "text": [
            "('お姫様', 0.7259089946746826)\n",
            "('[シンデレラ]', 0.6741881370544434)\n",
            "('貴婦人', 0.6695671081542969)\n",
            "('[アリス_(不思議の国のアリス)]', 0.6475884914398193)\n",
            "('花嫁', 0.6458605527877808)\n",
            "('妖精', 0.6455655097961426)\n",
            "('道化師', 0.6381884813308716)\n",
            "('姫君', 0.6307607889175415)\n",
            "('魔女', 0.6281230449676514)\n",
            "('魔法使い', 0.6276963949203491)\n"
          ],
          "name": "stdout"
        }
      ]
    },
    {
      "cell_type": "code",
      "metadata": {
        "id": "rEw9ytFPyxLx"
      },
      "source": [
        "# 上のセルを参考にして単語の足し引きをしてみよう"
      ],
      "execution_count": null,
      "outputs": []
    },
    {
      "cell_type": "markdown",
      "metadata": {
        "id": "s5EguyMiZ6Zf"
      },
      "source": [
        "# 単語を可視化してみよう"
      ]
    },
    {
      "cell_type": "markdown",
      "metadata": {
        "id": "e_Ej1Ytgdbm7"
      },
      "source": [
        "- 意味的に近い単語の分布を知りたい場合は2次元の分布図を作成すればわかりやすい \n",
        "- 200次元のベクトルを2次元にするには主成分分析(PCA)を用いる\n",
        "- matplotlibというライブラリを利用して分布図を作成する"
      ]
    },
    {
      "cell_type": "code",
      "metadata": {
        "id": "hY_NFjWTkcgL"
      },
      "source": [
        "# ライブラリのインストール\n",
        "!pip install japanize-matplotlib"
      ],
      "execution_count": null,
      "outputs": []
    },
    {
      "cell_type": "code",
      "metadata": {
        "id": "KnJR9qiYfDCy"
      },
      "source": [
        "# ライブラリのインポート\n",
        "from sklearn.decomposition import PCA #主成分分析器\n",
        "import matplotlib.pyplot as plt\n",
        "import japanize_matplotlib \n",
        "%matplotlib inline"
      ],
      "execution_count": null,
      "outputs": []
    },
    {
      "cell_type": "code",
      "metadata": {
        "id": "gBueEUO4HWFO"
      },
      "source": [
        "# 目標単語（検索したい言葉）を決める\n",
        "target_word = \"徳島県\""
      ],
      "execution_count": null,
      "outputs": []
    },
    {
      "cell_type": "code",
      "metadata": {
        "colab": {
          "base_uri": "https://localhost:8080/"
        },
        "id": "7rEpAdWcfVu-",
        "outputId": "090da12a-4152-41b3-a851-f40914438130"
      },
      "source": [
        "#類義語の分散表現をリストに格納\n",
        "item = model.most_similar(target_word,topn=1000) #topn:似ている単語を何個取得するか\n",
        "data = [] #類義語の分散表現を格納\n",
        "words = [] #類義語名を格納\n",
        "words.append([target_word,'r'])\n",
        "data.append(model[target_word])\n",
        "for index,word in enumerate(item):\n",
        "    if index % 100 == 0: #1番似ている単語から100個刻みで取得\n",
        "        print(word)\n",
        "        words.append([word[0],'b'])\n",
        "        data.append(model[word[0]])"
      ],
      "execution_count": null,
      "outputs": [
        {
          "output_type": "stream",
          "text": [
            "('香川県', 0.8651489019393921)\n",
            "('淡路島', 0.6386263966560364)\n",
            "('[津和野町]', 0.618722677230835)\n",
            "('[あわら市]', 0.6083723306655884)\n",
            "('[三条市]', 0.5998075008392334)\n",
            "('[御津郡]', 0.5947537422180176)\n",
            "('[阿智村]', 0.589626133441925)\n",
            "('南信', 0.5838637351989746)\n",
            "('[荒尾市]', 0.5785807371139526)\n",
            "('[佐々町]', 0.5731993317604065)\n"
          ],
          "name": "stdout"
        }
      ]
    },
    {
      "cell_type": "code",
      "metadata": {
        "id": "bK9bQNXIjDpu"
      },
      "source": [
        "#主成分分析により２次元に圧縮する\n",
        "pca = PCA(n_components=2)\n",
        "pca.fit(data)\n",
        "data_pca= pca.transform(data)"
      ],
      "execution_count": null,
      "outputs": []
    },
    {
      "cell_type": "code",
      "metadata": {
        "colab": {
          "base_uri": "https://localhost:8080/",
          "height": 34
        },
        "id": "sAEtYqynjLhw",
        "outputId": "16b36da8-d21d-409e-bd7a-a4d0e964a046"
      },
      "source": [
        "#プロットの準備\n",
        "fig=plt.figure(figsize=(10,6),facecolor='w')\n",
        "plt.rcParams[\"font.size\"] = 10"
      ],
      "execution_count": null,
      "outputs": [
        {
          "output_type": "display_data",
          "data": {
            "text/plain": [
              "<Figure size 720x432 with 0 Axes>"
            ]
          },
          "metadata": {
            "tags": []
          }
        }
      ]
    },
    {
      "cell_type": "code",
      "metadata": {
        "colab": {
          "base_uri": "https://localhost:8080/",
          "height": 264
        },
        "id": "vfPSku6ljL0W",
        "outputId": "e763630f-5a16-475b-8a78-6d7619c57ace"
      },
      "source": [
        "#プロット\n",
        "i = 0\n",
        "while i < len(data):\n",
        "    #点プロット\n",
        "    plt.plot(data_pca[i][0], data_pca[i][1], ms=5.0, zorder=2, marker=\"x\", color=words[i][1])\n",
        " \n",
        "    #文字プロット\n",
        "    plt.annotate(words[i][0], (data_pca[i][0], data_pca[i][1]), size=12,color=words[i][1])\n",
        "    i += 1\n",
        "\n",
        "#グラフの出力\n",
        "plt.show()"
      ],
      "execution_count": null,
      "outputs": [
        {
          "output_type": "display_data",
          "data": {
            "image/png": "[encoded data removed]",
            "text/plain": [
              "<Figure size 432x288 with 1 Axes>"
            ]
          },
          "metadata": {
            "tags": [],
            "needs_background": "light"
          }
        }
      ]
    },
    {
      "cell_type": "code",
      "metadata": {
        "id": "zh1TWmI4jW1L"
      },
      "source": [
        ""
      ],
      "execution_count": null,
      "outputs": []
    }
  ]
}